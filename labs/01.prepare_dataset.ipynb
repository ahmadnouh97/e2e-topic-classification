{
 "cells": [
  {
   "cell_type": "code",
   "execution_count": 1,
   "id": "3ee55a03",
   "metadata": {},
   "outputs": [],
   "source": [
    "import os\n",
    "import pickle as pkl\n",
    "import pandas as pd"
   ]
  },
  {
   "cell_type": "code",
   "execution_count": 2,
   "id": "d7aafa13",
   "metadata": {},
   "outputs": [],
   "source": [
    "from datasets import load_dataset\n",
    "from datasets.arrow_dataset import Dataset"
   ]
  },
  {
   "cell_type": "code",
   "execution_count": null,
   "id": "87f7648b",
   "metadata": {},
   "outputs": [],
   "source": []
  },
  {
   "cell_type": "code",
   "execution_count": 3,
   "id": "d2665738",
   "metadata": {},
   "outputs": [],
   "source": [
    "os.chdir(\"..\")"
   ]
  },
  {
   "cell_type": "code",
   "execution_count": 4,
   "id": "748c4572",
   "metadata": {},
   "outputs": [],
   "source": [
    "data_dir = os.path.join(\"data\")\n",
    "raw_dir = os.path.join(data_dir, \"raw\")\n",
    "processed_dir = os.path.join(data_dir, \"processed\")"
   ]
  },
  {
   "cell_type": "markdown",
   "id": "5c34f0d5",
   "metadata": {},
   "source": [
    "## Load Dataset\n",
    "Dataset url: https://huggingface.co/datasets/cardiffnlp/tweet_topic_single"
   ]
  },
  {
   "cell_type": "code",
   "execution_count": 5,
   "id": "fdc014d2",
   "metadata": {},
   "outputs": [
    {
     "data": {
      "application/vnd.jupyter.widget-view+json": {
       "model_id": "743f2ec9ad1c474aa26c502453b04a8c",
       "version_major": 2,
       "version_minor": 0
      },
      "text/plain": [
       "Downloading builder script:   0%|          | 0.00/4.28k [00:00<?, ?B/s]"
      ]
     },
     "metadata": {},
     "output_type": "display_data"
    },
    {
     "data": {
      "application/vnd.jupyter.widget-view+json": {
       "model_id": "e3c3c90764a746cca5704c1f113bd10d",
       "version_major": 2,
       "version_minor": 0
      },
      "text/plain": [
       "Downloading readme:   0%|          | 0.00/8.53k [00:00<?, ?B/s]"
      ]
     },
     "metadata": {},
     "output_type": "display_data"
    },
    {
     "name": "stdout",
     "output_type": "stream",
     "text": [
      "Downloading and preparing dataset tweet_topic_single/tweet_topic_single to C:/Users/ahmad/.cache/huggingface/datasets/cardiffnlp___tweet_topic_single/tweet_topic_single/1.0.4/832eaa087889d9f4bc549869b44e0acb85a78364dfb3d2bc0bdf23a7224cf2ce...\n"
     ]
    },
    {
     "data": {
      "application/vnd.jupyter.widget-view+json": {
       "model_id": "da231834cd5148dd9510d21da2555fdf",
       "version_major": 2,
       "version_minor": 0
      },
      "text/plain": [
       "Downloading data files:   0%|          | 0/13 [00:00<?, ?it/s]"
      ]
     },
     "metadata": {},
     "output_type": "display_data"
    },
    {
     "data": {
      "application/vnd.jupyter.widget-view+json": {
       "model_id": "63f61bd2696a4a389e024cd9633228d2",
       "version_major": 2,
       "version_minor": 0
      },
      "text/plain": [
       "Downloading data:   0%|          | 0.00/102k [00:00<?, ?B/s]"
      ]
     },
     "metadata": {},
     "output_type": "display_data"
    },
    {
     "data": {
      "application/vnd.jupyter.widget-view+json": {
       "model_id": "bae6544abca54f7b81f36f0fe6845126",
       "version_major": 2,
       "version_minor": 0
      },
      "text/plain": [
       "Downloading data:   0%|          | 0.00/470k [00:00<?, ?B/s]"
      ]
     },
     "metadata": {},
     "output_type": "display_data"
    },
    {
     "data": {
      "application/vnd.jupyter.widget-view+json": {
       "model_id": "16a875258258457992c0ca679ba8bef0",
       "version_major": 2,
       "version_minor": 0
      },
      "text/plain": [
       "Downloading data:   0%|          | 0.00/786k [00:00<?, ?B/s]"
      ]
     },
     "metadata": {},
     "output_type": "display_data"
    },
    {
     "data": {
      "application/vnd.jupyter.widget-view+json": {
       "model_id": "a50133fdabae4bd082c803ed6d533be6",
       "version_major": 2,
       "version_minor": 0
      },
      "text/plain": [
       "Downloading data:   0%|          | 0.00/419k [00:00<?, ?B/s]"
      ]
     },
     "metadata": {},
     "output_type": "display_data"
    },
    {
     "data": {
      "application/vnd.jupyter.widget-view+json": {
       "model_id": "7539ae949ec945498fb7eb85bc9ec8a2",
       "version_major": 2,
       "version_minor": 0
      },
      "text/plain": [
       "Downloading data:   0%|          | 0.00/96.2k [00:00<?, ?B/s]"
      ]
     },
     "metadata": {},
     "output_type": "display_data"
    },
    {
     "data": {
      "application/vnd.jupyter.widget-view+json": {
       "model_id": "a24bace4761f41aebe8ca5f577e82701",
       "version_major": 2,
       "version_minor": 0
      },
      "text/plain": [
       "Downloading data:   0%|          | 0.00/51.0k [00:00<?, ?B/s]"
      ]
     },
     "metadata": {},
     "output_type": "display_data"
    },
    {
     "data": {
      "application/vnd.jupyter.widget-view+json": {
       "model_id": "d6afd3c1012c43a4b57986be0ed64507",
       "version_major": 2,
       "version_minor": 0
      },
      "text/plain": [
       "Downloading data:   0%|          | 0.00/786k [00:00<?, ?B/s]"
      ]
     },
     "metadata": {},
     "output_type": "display_data"
    },
    {
     "data": {
      "application/vnd.jupyter.widget-view+json": {
       "model_id": "50707bb11b2942bfa54ccb59f04a3fea",
       "version_major": 2,
       "version_minor": 0
      },
      "text/plain": [
       "Downloading data:   0%|          | 0.00/95.9k [00:00<?, ?B/s]"
      ]
     },
     "metadata": {},
     "output_type": "display_data"
    },
    {
     "data": {
      "application/vnd.jupyter.widget-view+json": {
       "model_id": "c190f03c35544866994da6348d05ed67",
       "version_major": 2,
       "version_minor": 0
      },
      "text/plain": [
       "Downloading data:   0%|          | 0.00/936k [00:00<?, ?B/s]"
      ]
     },
     "metadata": {},
     "output_type": "display_data"
    },
    {
     "data": {
      "application/vnd.jupyter.widget-view+json": {
       "model_id": "7ef056d7741f4a73aa2a9f66b5f3df8c",
       "version_major": 2,
       "version_minor": 0
      },
      "text/plain": [
       "Downloading data:   0%|          | 0.00/991k [00:00<?, ?B/s]"
      ]
     },
     "metadata": {},
     "output_type": "display_data"
    },
    {
     "data": {
      "application/vnd.jupyter.widget-view+json": {
       "model_id": "475940e86e0d4df285b091cad76dcd0b",
       "version_major": 2,
       "version_minor": 0
      },
      "text/plain": [
       "Downloading data:   0%|          | 0.00/940k [00:00<?, ?B/s]"
      ]
     },
     "metadata": {},
     "output_type": "display_data"
    },
    {
     "data": {
      "application/vnd.jupyter.widget-view+json": {
       "model_id": "4ec24831e86343baa76a072f73a12d56",
       "version_major": 2,
       "version_minor": 0
      },
      "text/plain": [
       "Downloading data:   0%|          | 0.00/988k [00:00<?, ?B/s]"
      ]
     },
     "metadata": {},
     "output_type": "display_data"
    },
    {
     "data": {
      "application/vnd.jupyter.widget-view+json": {
       "model_id": "d21ca3256e6c404cb17bab2b82c6482d",
       "version_major": 2,
       "version_minor": 0
      },
      "text/plain": [
       "Extracting data files:   0%|          | 0/13 [00:00<?, ?it/s]"
      ]
     },
     "metadata": {},
     "output_type": "display_data"
    },
    {
     "data": {
      "application/vnd.jupyter.widget-view+json": {
       "model_id": "29dc451eaff04678a87c73acfb52efc2",
       "version_major": 2,
       "version_minor": 0
      },
      "text/plain": [
       "Generating test_2020 split: 0 examples [00:00, ? examples/s]"
      ]
     },
     "metadata": {},
     "output_type": "display_data"
    },
    {
     "data": {
      "application/vnd.jupyter.widget-view+json": {
       "model_id": "0b3e76285cdb4a4d8f903f681c166e85",
       "version_major": 2,
       "version_minor": 0
      },
      "text/plain": [
       "Generating test_2021 split: 0 examples [00:00, ? examples/s]"
      ]
     },
     "metadata": {},
     "output_type": "display_data"
    },
    {
     "data": {
      "application/vnd.jupyter.widget-view+json": {
       "model_id": "926cfaeb44014546b78aea235a7347c6",
       "version_major": 2,
       "version_minor": 0
      },
      "text/plain": [
       "Generating train_2020 split: 0 examples [00:00, ? examples/s]"
      ]
     },
     "metadata": {},
     "output_type": "display_data"
    },
    {
     "data": {
      "application/vnd.jupyter.widget-view+json": {
       "model_id": "16059c7dba3241f294ca5dcba2d98173",
       "version_major": 2,
       "version_minor": 0
      },
      "text/plain": [
       "Generating train_2021 split: 0 examples [00:00, ? examples/s]"
      ]
     },
     "metadata": {},
     "output_type": "display_data"
    },
    {
     "data": {
      "application/vnd.jupyter.widget-view+json": {
       "model_id": "8a598c1549ff40a083f965266699d4b6",
       "version_major": 2,
       "version_minor": 0
      },
      "text/plain": [
       "Generating train_all split: 0 examples [00:00, ? examples/s]"
      ]
     },
     "metadata": {},
     "output_type": "display_data"
    },
    {
     "data": {
      "application/vnd.jupyter.widget-view+json": {
       "model_id": "18a7ff29a7d546fb8b6a296640ec7b58",
       "version_major": 2,
       "version_minor": 0
      },
      "text/plain": [
       "Generating validation_2020 split: 0 examples [00:00, ? examples/s]"
      ]
     },
     "metadata": {},
     "output_type": "display_data"
    },
    {
     "data": {
      "application/vnd.jupyter.widget-view+json": {
       "model_id": "764c37c3d3784d2baabb3a4c44010bd2",
       "version_major": 2,
       "version_minor": 0
      },
      "text/plain": [
       "Generating validation_2021 split: 0 examples [00:00, ? examples/s]"
      ]
     },
     "metadata": {},
     "output_type": "display_data"
    },
    {
     "data": {
      "application/vnd.jupyter.widget-view+json": {
       "model_id": "fcf79197f2984a51b476be42496caad0",
       "version_major": 2,
       "version_minor": 0
      },
      "text/plain": [
       "Generating train_random split: 0 examples [00:00, ? examples/s]"
      ]
     },
     "metadata": {},
     "output_type": "display_data"
    },
    {
     "data": {
      "application/vnd.jupyter.widget-view+json": {
       "model_id": "ecdf711fb01b4ef3988729caa568ab1b",
       "version_major": 2,
       "version_minor": 0
      },
      "text/plain": [
       "Generating validation_random split: 0 examples [00:00, ? examples/s]"
      ]
     },
     "metadata": {},
     "output_type": "display_data"
    },
    {
     "data": {
      "application/vnd.jupyter.widget-view+json": {
       "model_id": "fc08a9a5891c468791d2ae6f13e3d3cb",
       "version_major": 2,
       "version_minor": 0
      },
      "text/plain": [
       "Generating test_coling2022_random split: 0 examples [00:00, ? examples/s]"
      ]
     },
     "metadata": {},
     "output_type": "display_data"
    },
    {
     "data": {
      "application/vnd.jupyter.widget-view+json": {
       "model_id": "03d910bdd17844998ef9d26e80096067",
       "version_major": 2,
       "version_minor": 0
      },
      "text/plain": [
       "Generating train_coling2022_random split: 0 examples [00:00, ? examples/s]"
      ]
     },
     "metadata": {},
     "output_type": "display_data"
    },
    {
     "data": {
      "application/vnd.jupyter.widget-view+json": {
       "model_id": "222000b2b5af4d2c8e32da0b7416b57f",
       "version_major": 2,
       "version_minor": 0
      },
      "text/plain": [
       "Generating test_coling2022 split: 0 examples [00:00, ? examples/s]"
      ]
     },
     "metadata": {},
     "output_type": "display_data"
    },
    {
     "data": {
      "application/vnd.jupyter.widget-view+json": {
       "model_id": "0be3144b9e6e41e7a93fbee5a73143b2",
       "version_major": 2,
       "version_minor": 0
      },
      "text/plain": [
       "Generating train_coling2022 split: 0 examples [00:00, ? examples/s]"
      ]
     },
     "metadata": {},
     "output_type": "display_data"
    },
    {
     "name": "stdout",
     "output_type": "stream",
     "text": [
      "Dataset tweet_topic_single downloaded and prepared to C:/Users/ahmad/.cache/huggingface/datasets/cardiffnlp___tweet_topic_single/tweet_topic_single/1.0.4/832eaa087889d9f4bc549869b44e0acb85a78364dfb3d2bc0bdf23a7224cf2ce. Subsequent calls will reuse this data.\n"
     ]
    },
    {
     "data": {
      "application/vnd.jupyter.widget-view+json": {
       "model_id": "2d4fdcfcd76c43fcbd90697a311c5b87",
       "version_major": 2,
       "version_minor": 0
      },
      "text/plain": [
       "  0%|          | 0/13 [00:00<?, ?it/s]"
      ]
     },
     "metadata": {},
     "output_type": "display_data"
    }
   ],
   "source": [
    "data = load_dataset(\"cardiffnlp/tweet_topic_single\")"
   ]
  },
  {
   "cell_type": "code",
   "execution_count": 6,
   "id": "5888a82f",
   "metadata": {},
   "outputs": [
    {
     "data": {
      "text/plain": [
       "DatasetDict({\n",
       "    test_2020: Dataset({\n",
       "        features: ['text', 'date', 'label', 'label_name', 'id'],\n",
       "        num_rows: 376\n",
       "    })\n",
       "    test_2021: Dataset({\n",
       "        features: ['text', 'date', 'label', 'label_name', 'id'],\n",
       "        num_rows: 1693\n",
       "    })\n",
       "    train_2020: Dataset({\n",
       "        features: ['text', 'date', 'label', 'label_name', 'id'],\n",
       "        num_rows: 2858\n",
       "    })\n",
       "    train_2021: Dataset({\n",
       "        features: ['text', 'date', 'label', 'label_name', 'id'],\n",
       "        num_rows: 1516\n",
       "    })\n",
       "    train_all: Dataset({\n",
       "        features: ['text', 'date', 'label', 'label_name', 'id'],\n",
       "        num_rows: 4374\n",
       "    })\n",
       "    validation_2020: Dataset({\n",
       "        features: ['text', 'date', 'label', 'label_name', 'id'],\n",
       "        num_rows: 352\n",
       "    })\n",
       "    validation_2021: Dataset({\n",
       "        features: ['text', 'date', 'label', 'label_name', 'id'],\n",
       "        num_rows: 189\n",
       "    })\n",
       "    train_random: Dataset({\n",
       "        features: ['text', 'date', 'label', 'label_name', 'id'],\n",
       "        num_rows: 2830\n",
       "    })\n",
       "    validation_random: Dataset({\n",
       "        features: ['text', 'date', 'label', 'label_name', 'id'],\n",
       "        num_rows: 354\n",
       "    })\n",
       "    test_coling2022_random: Dataset({\n",
       "        features: ['text', 'date', 'label', 'label_name', 'id'],\n",
       "        num_rows: 3399\n",
       "    })\n",
       "    train_coling2022_random: Dataset({\n",
       "        features: ['text', 'date', 'label', 'label_name', 'id'],\n",
       "        num_rows: 3598\n",
       "    })\n",
       "    test_coling2022: Dataset({\n",
       "        features: ['text', 'date', 'label', 'label_name', 'id'],\n",
       "        num_rows: 3399\n",
       "    })\n",
       "    train_coling2022: Dataset({\n",
       "        features: ['text', 'date', 'label', 'label_name', 'id'],\n",
       "        num_rows: 3598\n",
       "    })\n",
       "})"
      ]
     },
     "execution_count": 6,
     "metadata": {},
     "output_type": "execute_result"
    }
   ],
   "source": [
    "data"
   ]
  },
  {
   "cell_type": "code",
   "execution_count": 7,
   "id": "533dba5b",
   "metadata": {},
   "outputs": [
    {
     "data": {
      "text/plain": [
       "datasets.arrow_dataset.Dataset"
      ]
     },
     "execution_count": 7,
     "metadata": {},
     "output_type": "execute_result"
    }
   ],
   "source": [
    "type(data[\"train_2020\"])"
   ]
  },
  {
   "cell_type": "markdown",
   "id": "60b9c19a",
   "metadata": {},
   "source": [
    "## Concatinate All Data & Drop Duplicates"
   ]
  },
  {
   "cell_type": "code",
   "execution_count": 8,
   "id": "327e5172",
   "metadata": {},
   "outputs": [],
   "source": [
    "# convert Dataset object to pd.Dataframe object\n",
    "def to_dataframe(dataset: Dataset):\n",
    "    records = [row for row in dataset]\n",
    "    return pd.DataFrame(records)\n",
    "    "
   ]
  },
  {
   "cell_type": "code",
   "execution_count": 9,
   "id": "2cbad4db",
   "metadata": {},
   "outputs": [],
   "source": [
    "# concatinate splits to form a dataframe\n",
    "def concat(dataset: Dataset, splits: list, subset=\"text\"):\n",
    "    df = pd.concat([to_dataframe(dataset[split]) for split in splits], axis=0)\n",
    "    df = df.drop_duplicates(subset=subset)\n",
    "    df = df.reset_index(drop=True)\n",
    "    return df"
   ]
  },
  {
   "cell_type": "code",
   "execution_count": 10,
   "id": "3022fdfb",
   "metadata": {},
   "outputs": [
    {
     "data": {
      "text/plain": [
       "['test_2020',\n",
       " 'test_2021',\n",
       " 'train_2020',\n",
       " 'train_2021',\n",
       " 'train_all',\n",
       " 'validation_2020',\n",
       " 'validation_2021',\n",
       " 'train_random',\n",
       " 'validation_random',\n",
       " 'test_coling2022_random',\n",
       " 'train_coling2022_random',\n",
       " 'test_coling2022',\n",
       " 'train_coling2022']"
      ]
     },
     "execution_count": 10,
     "metadata": {},
     "output_type": "execute_result"
    }
   ],
   "source": [
    "splits = list(data.keys())\n",
    "splits"
   ]
  },
  {
   "cell_type": "code",
   "execution_count": 11,
   "id": "e052ba91",
   "metadata": {},
   "outputs": [],
   "source": [
    "df = concat(data, splits)"
   ]
  },
  {
   "cell_type": "code",
   "execution_count": 12,
   "id": "ea251d27",
   "metadata": {},
   "outputs": [
    {
     "data": {
      "text/html": [
       "<div>\n",
       "<style scoped>\n",
       "    .dataframe tbody tr th:only-of-type {\n",
       "        vertical-align: middle;\n",
       "    }\n",
       "\n",
       "    .dataframe tbody tr th {\n",
       "        vertical-align: top;\n",
       "    }\n",
       "\n",
       "    .dataframe thead th {\n",
       "        text-align: right;\n",
       "    }\n",
       "</style>\n",
       "<table border=\"1\" class=\"dataframe\">\n",
       "  <thead>\n",
       "    <tr style=\"text-align: right;\">\n",
       "      <th></th>\n",
       "      <th>text</th>\n",
       "      <th>date</th>\n",
       "      <th>label</th>\n",
       "      <th>label_name</th>\n",
       "      <th>id</th>\n",
       "    </tr>\n",
       "  </thead>\n",
       "  <tbody>\n",
       "    <tr>\n",
       "      <th>0</th>\n",
       "      <td>Game day for {{USERNAME}} U18’s against {{USER...</td>\n",
       "      <td>2019-09-08</td>\n",
       "      <td>4</td>\n",
       "      <td>sports_&amp;_gaming</td>\n",
       "      <td>1170606779568463874</td>\n",
       "    </tr>\n",
       "    <tr>\n",
       "      <th>1</th>\n",
       "      <td>⚽️ This afternoon we have our first League gam...</td>\n",
       "      <td>2019-09-08</td>\n",
       "      <td>4</td>\n",
       "      <td>sports_&amp;_gaming</td>\n",
       "      <td>1170607436924952576</td>\n",
       "    </tr>\n",
       "    <tr>\n",
       "      <th>2</th>\n",
       "      <td>Might watch the {@Tennessee Titans@} game only...</td>\n",
       "      <td>2019-09-08</td>\n",
       "      <td>4</td>\n",
       "      <td>sports_&amp;_gaming</td>\n",
       "      <td>1170666727845376000</td>\n",
       "    </tr>\n",
       "    <tr>\n",
       "      <th>3</th>\n",
       "      <td>. {@Asante Kotoko SC@} should have moved for t...</td>\n",
       "      <td>2019-09-08</td>\n",
       "      <td>4</td>\n",
       "      <td>sports_&amp;_gaming</td>\n",
       "      <td>1170728379290673154</td>\n",
       "    </tr>\n",
       "    <tr>\n",
       "      <th>4</th>\n",
       "      <td>Massive WELL DONE to BSLFC Reserves today in t...</td>\n",
       "      <td>2019-09-08</td>\n",
       "      <td>4</td>\n",
       "      <td>sports_&amp;_gaming</td>\n",
       "      <td>1170788768690970624</td>\n",
       "    </tr>\n",
       "  </tbody>\n",
       "</table>\n",
       "</div>"
      ],
      "text/plain": [
       "                                                text        date  label  \\\n",
       "0  Game day for {{USERNAME}} U18’s against {{USER...  2019-09-08      4   \n",
       "1  ⚽️ This afternoon we have our first League gam...  2019-09-08      4   \n",
       "2  Might watch the {@Tennessee Titans@} game only...  2019-09-08      4   \n",
       "3  . {@Asante Kotoko SC@} should have moved for t...  2019-09-08      4   \n",
       "4  Massive WELL DONE to BSLFC Reserves today in t...  2019-09-08      4   \n",
       "\n",
       "        label_name                   id  \n",
       "0  sports_&_gaming  1170606779568463874  \n",
       "1  sports_&_gaming  1170607436924952576  \n",
       "2  sports_&_gaming  1170666727845376000  \n",
       "3  sports_&_gaming  1170728379290673154  \n",
       "4  sports_&_gaming  1170788768690970624  "
      ]
     },
     "execution_count": 12,
     "metadata": {},
     "output_type": "execute_result"
    }
   ],
   "source": [
    "df.head()"
   ]
  },
  {
   "cell_type": "markdown",
   "id": "8da59f14",
   "metadata": {},
   "source": [
    "## Save to CSV file"
   ]
  },
  {
   "cell_type": "code",
   "execution_count": 13,
   "id": "3dcefb12",
   "metadata": {},
   "outputs": [],
   "source": [
    "df.to_csv(os.path.join(raw_dir, \"tweet_topic.csv\"), index=False)"
   ]
  },
  {
   "cell_type": "code",
   "execution_count": null,
   "id": "c3df3440",
   "metadata": {},
   "outputs": [],
   "source": []
  },
  {
   "cell_type": "code",
   "execution_count": null,
   "id": "6f9c8ca2",
   "metadata": {},
   "outputs": [],
   "source": []
  }
 ],
 "metadata": {
  "kernelspec": {
   "display_name": "Python 3 (ipykernel)",
   "language": "python",
   "name": "python3"
  },
  "language_info": {
   "codemirror_mode": {
    "name": "ipython",
    "version": 3
   },
   "file_extension": ".py",
   "mimetype": "text/x-python",
   "name": "python",
   "nbconvert_exporter": "python",
   "pygments_lexer": "ipython3",
   "version": "3.10.12"
  }
 },
 "nbformat": 4,
 "nbformat_minor": 5
}
